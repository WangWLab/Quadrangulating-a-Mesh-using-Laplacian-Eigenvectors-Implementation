{
 "cells": [
  {
   "cell_type": "code",
   "execution_count": 1,
   "metadata": {},
   "outputs": [],
   "source": [
    "import pickle\n",
    "import open3d as o3d\n",
    "import matplotlib.pyplot as plt\n",
    "import numpy as np\n",
    "import ipyvolume as ipv\n",
    "\n",
    "with open('data\\\\evecs.pkl', 'rb') as f:\n",
    "    data = pickle.load(f)\n",
    "mesh = o3d.io.read_triangle_mesh('data\\\\bun_zipper.ply')\n",
    "lines = list(np.asarray(mesh.vertices))\n",
    "\n",
    "xs = list()\n",
    "ys = list()\n",
    "zs = list()\n",
    "cs = list()\n",
    "for index, line in enumerate(lines):\n",
    "    xs.append(line[0])\n",
    "    ys.append(line[1])\n",
    "    zs.append(line[2])\n",
    "\n",
    "lines = [list(item) for item in np.asarray(mesh.triangles)]"
   ]
  },
  {
   "cell_type": "code",
   "execution_count": 10,
   "metadata": {},
   "outputs": [],
   "source": [
    "ipv.clear()\n",
    "from data_structure import Line\n",
    "with open('data\\\\lines.pkl', 'rb') as f:\n",
    "    data = pickle.load(f)\n",
    "for item in data:\n",
    "    ipv.plot(np.asarray(item.x), np.asarray(item.y), np.asarray(item.z), color='black', size=100)\n",
    "with open('data\\\\traverse_sequence.pkl', 'rb') as f:\n",
    "    ver_nodes, sequence = pickle.load(f)\n",
    "# ipv.plot(np.asarray(ver_nodes.x), np.asarray(ver_nodes.y), np.asarray(ver_nodes.z), color='blue', size=100)\n",
    "# ipv.plot(np.asarray(sequence.x), np.asarray(sequence.y), np.asarray(sequence.z), color='red', size=100)"
   ]
  },
  {
   "cell_type": "code",
   "execution_count": 11,
   "metadata": {},
   "outputs": [
    {
     "data": {
      "application/vnd.jupyter.widget-view+json": {
       "model_id": "c0b3bdfb1fb643f49c86ab6c1a39259c",
       "version_major": 2,
       "version_minor": 0
      },
      "text/plain": [
       "VBox(children=(Figure(camera=PerspectiveCamera(fov=46.0, position=(0.0, 0.0, 2.0), projectionMatrix=(2.3558523…"
      ]
     },
     "metadata": {},
     "output_type": "display_data"
    }
   ],
   "source": [
    "import time\n",
    "ipv.plot_trisurf(xs, ys, zs, triangles=lines, color='green')\n",
    "ipv.pylab.xlim(-0.1, 0.1)\n",
    "ipv.pylab.ylim(-0.1, 0.1)\n",
    "ipv.pylab.zlim(-0.1, 0.1)\n",
    "\n",
    "ipv.show()"
   ]
  },
  {
   "cell_type": "code",
   "execution_count": null,
   "metadata": {},
   "outputs": [],
   "source": []
  }
 ],
 "metadata": {
  "kernelspec": {
   "display_name": "Python 3",
   "language": "python",
   "name": "python3"
  },
  "language_info": {
   "codemirror_mode": {
    "name": "ipython",
    "version": 3
   },
   "file_extension": ".py",
   "mimetype": "text/x-python",
   "name": "python",
   "nbconvert_exporter": "python",
   "pygments_lexer": "ipython3",
   "version": "3.6.6"
  }
 },
 "nbformat": 4,
 "nbformat_minor": 2
}
