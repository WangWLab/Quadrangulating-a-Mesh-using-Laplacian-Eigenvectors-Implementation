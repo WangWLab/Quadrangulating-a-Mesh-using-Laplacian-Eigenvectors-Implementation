{
 "cells": [
  {
   "cell_type": "code",
   "execution_count": 1,
   "metadata": {},
   "outputs": [],
   "source": [
    "import pickle\n",
    "import open3d as o3d\n",
    "import matplotlib.pyplot as plt\n",
    "import numpy as np\n",
    "import ipyvolume as ipv\n",
    "\n",
    "with open('data\\\\evecs.pkl', 'rb') as f:\n",
    "    data = pickle.load(f)\n",
    "mesh = o3d.io.read_triangle_mesh('data\\\\bun_zipper.ply')\n",
    "lines = list(np.asarray(mesh.vertices))\n",
    "\n",
    "xs = list()\n",
    "ys = list()\n",
    "zs = list()\n",
    "cs = list()\n",
    "for index, line in enumerate(lines):\n",
    "    xs.append(line[0])\n",
    "    ys.append(line[1])\n",
    "    zs.append(line[2])\n",
    "\n",
    "lines = [list(item) for item in np.asarray(mesh.triangles)]"
   ]
  },
  {
   "cell_type": "code",
   "execution_count": 2,
   "metadata": {},
   "outputs": [],
   "source": [
    "ipv.clear()\n",
    "from data_structure import Line\n",
    "# with open('data\\\\lines.pkl', 'rb') as f:\n",
    "#     data = pickle.load(f)\n",
    "# for item in data:\n",
    "#     ipv.plot(np.asarray(item.x), np.asarray(item.y), np.asarray(item.z), color='black', size=100)\n",
    "# with open('data\\\\traverse_sequence.pkl', 'rb') as f:\n",
    "#     ver_nodes, sequence = pickle.load(f)\n",
    "# ipv.plot(np.asarray(ver_nodes.x), np.asarray(ver_nodes.y), np.asarray(ver_nodes.z), color='blue', size=100)\n",
    "# ipv.plot(np.asarray(sequence.x), np.asarray(sequence.y), np.asarray(sequence.z), color='red', size=100)\n",
    "# with open('data\\\\plot_data.pkl' ,'rb') as f:\n",
    "#     mesh_point_3d, mesh_quad_index = pickle.load(f)\n",
    "# for item in mesh_quad_index:\n",
    "#     xs = list()\n",
    "#     ys = list()\n",
    "#     zs = list()\n",
    "#     for point in item:\n",
    "#         xs.append(mesh_point_3d[point][0])\n",
    "#         ys.append(mesh_point_3d[point][1])\n",
    "#         zs.append(mesh_point_3d[point][2])\n",
    "#     xs.append(mesh_point_3d[item[0]][0])\n",
    "#     ys.append(mesh_point_3d[item[0]][1])\n",
    "#     zs.append(mesh_point_3d[item[0]][2])\n",
    "#     ipv.plot(np.asarray(xs), np.asarray(ys), np.asarray(zs), color='red')\n",
    "with open('data\\\\data.pkl', 'rb') as f:\n",
    "    nodes, edges, edge_lengths, f_value, saddle_nodes = pickle.load(f)\n",
    "with open('data\\\\patch.pkl', 'rb') as f:\n",
    "    patches = pickle.load(f)\n",
    "node1, node2, max_end, min_end, boundary, insides, triangles = patches[0]\n",
    "for triangle in triangles[:1000]:\n",
    "    xs = list()\n",
    "    ys = list()\n",
    "    zs = list()\n",
    "    triangle = list(triangle)\n",
    "    for item in triangle:\n",
    "        xs.append(nodes[item].map_point[0])\n",
    "        ys.append(nodes[item].map_point[1])\n",
    "        zs.append(0)\n",
    "    xs.append(nodes[triangle[0]].map_point[0])\n",
    "    ys.append(nodes[triangle[0]].map_point[1])\n",
    "    zs.append(0)\n",
    "    ipv.plot(np.asarray(xs), np.asarray(ys), np.asarray(zs), color='red')"
   ]
  },
  {
   "cell_type": "code",
   "execution_count": 3,
   "metadata": {
    "scrolled": false
   },
   "outputs": [
    {
     "data": {
      "application/vnd.jupyter.widget-view+json": {
       "model_id": "f5b9c98f1bf0475689aa373ac8b62f08",
       "version_major": 2,
       "version_minor": 0
      },
      "text/plain": [
       "VBox(children=(Figure(camera=PerspectiveCamera(fov=46.0, position=(0.0, 0.0, 2.0), projectionMatrix=(2.3558523…"
      ]
     },
     "metadata": {},
     "output_type": "display_data"
    }
   ],
   "source": [
    "import time\n",
    "# ipv.plot_trisurf(xs, ys, zs, triangles=lines, color='green')\n",
    "ipv.pylab.xlim(-1, 1)\n",
    "ipv.pylab.ylim(-1, 1)\n",
    "ipv.pylab.zlim(0, 1)\n",
    "\n",
    "ipv.show()"
   ]
  },
  {
   "cell_type": "code",
   "execution_count": 13,
   "metadata": {},
   "outputs": [],
   "source": [
    "with open('data\\\\patch.pkl', 'rb') as f:\n",
    "    patches = pickle.load(f)\n",
    "node1, node2, max_end, min_end, boundary, insides, triangles = patches[0]\n",
    "with open('data\\\\result.pkl', 'rb') as f:\n",
    "    result = pickle.load(f)\n",
    "mesh_points_3d, mesh_quad_index = result[0]\n",
    "with open('data\\\\data.pkl', 'rb') as f:\n",
    "    nodes, edges, edge_lengths, f_value, saddle_nodes = pickle.load(f)"
   ]
  },
  {
   "cell_type": "code",
   "execution_count": 58,
   "metadata": {},
   "outputs": [],
   "source": [
    "ipv.clear()\n",
    "for triangle in triangles[26:int(len(triangles)/175)]:\n",
    "    xs = list()\n",
    "    ys = list()\n",
    "    zs = list()\n",
    "    for item in triangle:\n",
    "        xs.append(nodes[item].map_point[0])\n",
    "        ys.append(nodes[item].map_point[1])\n",
    "        zs.append(0)\n",
    "    ipv.plot(np.asarray(xs), np.asarray(ys), np.asarray(zs), color='red')"
   ]
  }
 ],
 "metadata": {
  "kernelspec": {
   "display_name": "Python 3",
   "language": "python",
   "name": "python3"
  },
  "language_info": {
   "codemirror_mode": {
    "name": "ipython",
    "version": 3
   },
   "file_extension": ".py",
   "mimetype": "text/x-python",
   "name": "python",
   "nbconvert_exporter": "python",
   "pygments_lexer": "ipython3",
   "version": "3.6.6"
  }
 },
 "nbformat": 4,
 "nbformat_minor": 2
}
